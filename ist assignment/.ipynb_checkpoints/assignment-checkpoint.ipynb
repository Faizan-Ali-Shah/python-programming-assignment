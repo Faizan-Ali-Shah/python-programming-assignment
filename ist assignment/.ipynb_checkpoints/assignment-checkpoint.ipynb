{
 "cells": [
  {
   "cell_type": "markdown",
   "id": "c1b394eb",
   "metadata": {},
   "source": [
    "# string in sprcific format\n",
    "\n"
   ]
  },
  {
   "cell_type": "code",
   "execution_count": 19,
   "id": "8d9171f5",
   "metadata": {},
   "outputs": [
    {
     "name": "stdout",
     "output_type": "stream",
     "text": [
      "Twinkle,twinkle,little star,\n",
      "        How i wonder what you are!\n",
      "                Up above the world so high,\n",
      "                Like a dimond in the sky.\n",
      "Twinkle,twinkle,little star,\n",
      "        How i wonder what you are\n"
     ]
    }
   ],
   "source": [
    "print(\"Twinkle,twinkle,little star,\")\n",
    "print (\"\\t How i wonder what you are!\".expandtabs(tabsize=7))\n",
    "print(\"\\t Up above the world so high,\".expandtabs(tabsize=15))\n",
    "print(\"\\t Like a dimond in the sky.\".expandtabs(tabsize=15))\n",
    "print(\"Twinkle,twinkle,little star,\")\n",
    "print (\"\\t How i wonder what you are\".expandtabs(tabsize=7))"
   ]
  },
  {
   "cell_type": "markdown",
   "id": "53d5ac23",
   "metadata": {},
   "source": [
    "## find current python version \n"
   ]
  },
  {
   "cell_type": "code",
   "execution_count": 20,
   "id": "3a1838d0",
   "metadata": {},
   "outputs": [
    {
     "name": "stdout",
     "output_type": "stream",
     "text": [
      "python version\n",
      "3.9.7 (default, Sep 16 2021, 16:59:28) [MSC v.1916 64 bit (AMD64)]\n"
     ]
    }
   ],
   "source": [
    "import sys\n",
    "print(\"python version\")\n",
    "print(sys.version)"
   ]
  },
  {
   "cell_type": "markdown",
   "id": "9f15dfa9",
   "metadata": {},
   "source": [
    "# current date&time"
   ]
  },
  {
   "cell_type": "code",
   "execution_count": 21,
   "id": "21254e38",
   "metadata": {},
   "outputs": [
    {
     "name": "stdout",
     "output_type": "stream",
     "text": [
      "current time is \n",
      " 22-01-02 01: 27: 53\n"
     ]
    }
   ],
   "source": [
    "import datetime\n",
    "now=datetime.datetime.now()\n",
    "print(\"current time is \")\n",
    "print(now.strftime(\" %y-%m-%d %H: %M: %S\"))"
   ]
  },
  {
   "cell_type": "markdown",
   "id": "4e75bdb4",
   "metadata": {},
   "source": [
    "## area of a circle"
   ]
  },
  {
   "cell_type": "code",
   "execution_count": 24,
   "id": "71abf97e",
   "metadata": {},
   "outputs": [
    {
     "name": "stdout",
     "output_type": "stream",
     "text": [
      "enter radius of the circle: 45\n",
      "Area of the circle is 6361.725123519332 \n"
     ]
    }
   ],
   "source": [
    "import math\n",
    "radius=float(input(\"enter radius of the circle: \"))\n",
    "area=math.pi * radius * radius\n",
    "print(\"Area of the circle is {0} \".format(area))\n"
   ]
  },
  {
   "cell_type": "markdown",
   "id": "d35e5630",
   "metadata": {},
   "source": [
    "## get first and last name from user and reverse it"
   ]
  },
  {
   "cell_type": "code",
   "execution_count": 27,
   "id": "6b20fc17",
   "metadata": {},
   "outputs": [
    {
     "name": "stdout",
     "output_type": "stream",
     "text": [
      "enter the first name :ali\n",
      "enter the last name :shah\n",
      "shah ali\n"
     ]
    }
   ],
   "source": [
    "first_name=str(input(\"enter the first name :\"))\n",
    "last_name=str(input(\"enter the last name :\"))\n",
    "print(last_name,first_name)"
   ]
  },
  {
   "cell_type": "markdown",
   "id": "426dfd5d",
   "metadata": {},
   "source": [
    "## two inputs from user and the add them"
   ]
  },
  {
   "cell_type": "code",
   "execution_count": 1,
   "id": "3b6b9b2e",
   "metadata": {},
   "outputs": [
    {
     "name": "stdout",
     "output_type": "stream",
     "text": [
      "enter 1st number :2\n",
      "enter 2nd number:5\n",
      "sum of two number :7\n"
     ]
    }
   ],
   "source": [
    "a=int(input(\"enter 1st number :\"))\n",
    "b=int(input(\"enter 2nd number:\"))\n",
    "\n",
    "c=a+b\n",
    "print(\"sum of two number:\",end='')\n",
    "print(c)"
   ]
  }
 ],
 "metadata": {
  "kernelspec": {
   "display_name": "Python 3 (ipykernel)",
   "language": "python",
   "name": "python3"
  },
  "language_info": {
   "codemirror_mode": {
    "name": "ipython",
    "version": 3
   },
   "file_extension": ".py",
   "mimetype": "text/x-python",
   "name": "python",
   "nbconvert_exporter": "python",
   "pygments_lexer": "ipython3",
   "version": "3.9.7"
  }
 },
 "nbformat": 4,
 "nbformat_minor": 5
}
